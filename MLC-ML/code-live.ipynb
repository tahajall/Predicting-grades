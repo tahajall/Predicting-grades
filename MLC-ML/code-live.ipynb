{
 "cells": [
  {
   "cell_type": "code",
   "execution_count": 1,
   "metadata": {},
   "outputs": [
    {
     "name": "stdout",
     "output_type": "stream",
     "text": [
      "Requirement already satisfied: kmodes in /Users/spneshaei/miniforge3/envs/env_tf/lib/python3.9/site-packages (0.12.2)\n",
      "Requirement already satisfied: scikit-learn>=0.22.0 in /Users/spneshaei/miniforge3/envs/env_tf/lib/python3.9/site-packages (from kmodes) (1.0.2)\n",
      "Requirement already satisfied: numpy>=1.10.4 in /Users/spneshaei/miniforge3/envs/env_tf/lib/python3.9/site-packages (from kmodes) (1.24.0)\n",
      "Requirement already satisfied: scipy>=0.13.3 in /Users/spneshaei/miniforge3/envs/env_tf/lib/python3.9/site-packages (from kmodes) (1.8.0)\n",
      "Requirement already satisfied: joblib>=0.11 in /Users/spneshaei/miniforge3/envs/env_tf/lib/python3.9/site-packages (from kmodes) (1.1.0)\n",
      "Requirement already satisfied: threadpoolctl>=2.0.0 in /Users/spneshaei/miniforge3/envs/env_tf/lib/python3.9/site-packages (from scikit-learn>=0.22.0->kmodes) (3.1.0)\n",
      "\n",
      "\u001b[1m[\u001b[0m\u001b[34;49mnotice\u001b[0m\u001b[1;39;49m]\u001b[0m\u001b[39;49m A new release of pip available: \u001b[0m\u001b[31;49m22.1.2\u001b[0m\u001b[39;49m -> \u001b[0m\u001b[32;49m23.1.2\u001b[0m\n",
      "\u001b[1m[\u001b[0m\u001b[34;49mnotice\u001b[0m\u001b[1;39;49m]\u001b[0m\u001b[39;49m To update, run: \u001b[0m\u001b[32;49mpip install --upgrade pip\u001b[0m\n"
     ]
    }
   ],
   "source": [
    "!pip install kmodes\n",
    "# pandas, numpy, sklearn"
   ]
  },
  {
   "cell_type": "code",
   "execution_count": 3,
   "metadata": {},
   "outputs": [],
   "source": [
    "import pandas as pd\n",
    "import numpy as np\n",
    "import matplotlib.pyplot as plt\n",
    "from sklearn.cluster import KMeans\n",
    "from kmodes.kmodes import KModes"
   ]
  },
  {
   "cell_type": "code",
   "execution_count": 4,
   "metadata": {},
   "outputs": [],
   "source": [
    "df = pd.read_csv(\"dataset.csv\")\n",
    "\n",
    "effort_clustering = KMeans(n_clusters=2, random_state=0).fit(df[['time_online', 'video_clicks']])\n",
    "df['effort'] = effort_clustering.labels_\n",
    "\n",
    "proactivity_clustering = KMeans(n_clusters=2, random_state=0).fit(df[['content_anticipation', 'delay_lectures']])\n",
    "df['proactivity'] = proactivity_clustering.labels_\n",
    "\n",
    "control_clustering = KMeans(n_clusters=2, random_state=0).fit(df[['fraction_spent']])\n",
    "df['control'] = control_clustering.labels_\n",
    "\n",
    "df.to_csv(\"dataset_clustered.csv\", index=False)"
   ]
  },
  {
   "cell_type": "code",
   "execution_count": 5,
   "metadata": {},
   "outputs": [],
   "source": [
    "k_modes = KModes(n_clusters=4)\n",
    "clusters = k_modes.fit_predict(df[['effort', 'proactivity', 'control']])\n",
    "df['profile'] = clusters\n",
    "df.to_csv(\"dataset_clustered.csv\", index=False)"
   ]
  },
  {
   "cell_type": "code",
   "execution_count": 12,
   "metadata": {},
   "outputs": [],
   "source": [
    "import torch\n",
    "import torch.nn as nn\n",
    "import torch.nn.functional as F\n",
    "import torch.optim as optim\n",
    "from sklearn.model_selection import train_test_split\n",
    "from sklearn.preprocessing import StandardScaler\n",
    "\n",
    "features = df[[\"time_online\", \"video_clicks\", \"content_anticipation\", \"delay_lectures\", \"fraction_spent\"]].values\n",
    "target = df['grade'].values\n",
    "\n",
    "scaler = StandardScaler()\n",
    "features = scaler.fit_transform(features)\n",
    "\n",
    "X_train, X_test, y_train, y_test = train_test_split(features, target, test_size=0.2, random_state=0)\n",
    "\n",
    "X_train = torch.Tensor(X_train)\n",
    "y_train = torch.Tensor(y_train).unsqueeze(1)\n",
    "X_test = torch.Tensor(X_test)\n",
    "y_test = torch.Tensor(y_test).unsqueeze(1)\n",
    "\n",
    "class Net(nn.Module):\n",
    "    def __init__(self, input_size):\n",
    "        super(Net, self).__init__()\n",
    "        self.fc1 = nn.Linear(input_size, 10)\n",
    "        self.fc2 = nn.Linear(10, 8)\n",
    "        self.fc3 = nn.Linear(8, 1)\n",
    "\n",
    "    def forward(self, x):\n",
    "        x = torch.relu(self.fc1(x))\n",
    "        x = torch.relu(self.fc2(x))\n",
    "        x = self.fc3(x)\n",
    "        return x\n",
    "    \n",
    "input_size = features.shape[1]\n",
    "model = Net(input_size)\n",
    "\n",
    "criterion = nn.MSELoss()\n",
    "optimizer = optim.Adam(model.parameters(), lr=0.01)\n",
    "\n",
    "for i in range(10000):\n",
    "    outputs = model(X_train)\n",
    "    loss = criterion(outputs, y_train)\n",
    "    optimizer.zero_grad()\n",
    "    loss.backward()\n",
    "    optimizer.step()"
   ]
  },
  {
   "cell_type": "code",
   "execution_count": 13,
   "metadata": {},
   "outputs": [
    {
     "name": "stdout",
     "output_type": "stream",
     "text": [
      "1.101899266242981\n"
     ]
    }
   ],
   "source": [
    "model.eval()\n",
    "with torch.no_grad():\n",
    "    y_pred = model(X_test)\n",
    "    mse = F.mse_loss(y_pred, y_test)\n",
    "    print(mse.item())"
   ]
  }
 ],
 "metadata": {
  "kernelspec": {
   "display_name": "env_tf",
   "language": "python",
   "name": "python3"
  },
  "language_info": {
   "codemirror_mode": {
    "name": "ipython",
    "version": 3
   },
   "file_extension": ".py",
   "mimetype": "text/x-python",
   "name": "python",
   "nbconvert_exporter": "python",
   "pygments_lexer": "ipython3",
   "version": "3.9.12"
  },
  "orig_nbformat": 4
 },
 "nbformat": 4,
 "nbformat_minor": 2
}
